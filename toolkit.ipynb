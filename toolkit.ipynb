{
  "nbformat": 4,
  "nbformat_minor": 0,
  "metadata": {
    "colab": {
      "name": "toolkit.ipynb",
      "provenance": [],
      "toc_visible": true,
      "authorship_tag": "ABX9TyNDGJARJwANleMTxasf9L51",
      "include_colab_link": true
    },
    "kernelspec": {
      "name": "python3",
      "display_name": "Python 3"
    },
    "language_info": {
      "name": "python"
    }
  },
  "cells": [
    {
      "cell_type": "markdown",
      "metadata": {
        "id": "view-in-github",
        "colab_type": "text"
      },
      "source": [
        "<a href=\"https://colab.research.google.com/github/Nirbhai/Learning-MLOps-1/blob/main/toolkit.ipynb\" target=\"_parent\"><img src=\"https://colab.research.google.com/assets/colab-badge.svg\" alt=\"Open In Colab\"/></a>"
      ]
    },
    {
      "cell_type": "markdown",
      "source": [
        "# Python"
      ],
      "metadata": {
        "id": "0cA1reBY9VMK"
      }
    },
    {
      "cell_type": "code",
      "source": [
        "!pip install rich"
      ],
      "metadata": {
        "colab": {
          "base_uri": "https://localhost:8080/"
        },
        "id": "FFZThLvaBf5W",
        "outputId": "4d0e6f2a-0107-4e22-d9aa-299e2c31e489"
      },
      "execution_count": 1,
      "outputs": [
        {
          "output_type": "stream",
          "name": "stdout",
          "text": [
            "Looking in indexes: https://pypi.org/simple, https://us-python.pkg.dev/colab-wheels/public/simple/\n",
            "Collecting rich\n",
            "  Downloading rich-12.4.4-py3-none-any.whl (232 kB)\n",
            "\u001b[K     |████████████████████████████████| 232 kB 5.0 MB/s \n",
            "\u001b[?25hCollecting commonmark<0.10.0,>=0.9.0\n",
            "  Downloading commonmark-0.9.1-py2.py3-none-any.whl (51 kB)\n",
            "\u001b[K     |████████████████████████████████| 51 kB 6.5 MB/s \n",
            "\u001b[?25hRequirement already satisfied: pygments<3.0.0,>=2.6.0 in /usr/local/lib/python3.7/dist-packages (from rich) (2.6.1)\n",
            "Requirement already satisfied: typing-extensions<5.0,>=4.0.0 in /usr/local/lib/python3.7/dist-packages (from rich) (4.2.0)\n",
            "Installing collected packages: commonmark, rich\n",
            "Successfully installed commonmark-0.9.1 rich-12.4.4\n"
          ]
        }
      ]
    },
    {
      "cell_type": "code",
      "source": [
        "from rich import print as rprint"
      ],
      "metadata": {
        "id": "XyVwjY4JB9XV"
      },
      "execution_count": 2,
      "outputs": []
    },
    {
      "cell_type": "markdown",
      "source": [
        "## Decorators\n",
        "\n",
        "Functions allow us to modularize code and reuse them. However, we'll often want to add some functionality before or after the main function executes and we may want to do this for many different functions. Instead of adding more code to the original function, we can use `decorators`!\n",
        "\n",
        "`decorators`: augment a function with pre/post-processing. Decorators wrap around the main function and allow us to operate on the inputs and or outputs.\n",
        "\n",
        "Suppose we have a function called `addTaxToPayment` which changes the status of a payment when invoked."
      ],
      "metadata": {
        "id": "oXqwHiK6Mvaw"
      }
    },
    {
      "cell_type": "code",
      "source": [
        "def addTaxToPayment(payment):\n",
        "    \"\"\"Adds 10% tax to the Payment\"\"\"\n",
        "    tax = 0.1 * payment\n",
        "    payment += tax\n",
        "    return payment"
      ],
      "metadata": {
        "id": "CXZkIZBRNG6O"
      },
      "execution_count": 3,
      "outputs": []
    },
    {
      "cell_type": "code",
      "source": [
        "rprint (addTaxToPayment(100))"
      ],
      "metadata": {
        "colab": {
          "base_uri": "https://localhost:8080/",
          "height": 34
        },
        "id": "A_y1aQRcO0sf",
        "outputId": "2e658640-f4e5-48a5-cf55-219c61fb4987"
      },
      "execution_count": 4,
      "outputs": [
        {
          "output_type": "display_data",
          "data": {
            "text/plain": [
              "\u001b[1;36m110.0\u001b[0m\n"
            ],
            "text/html": [
              "<pre style=\"white-space:pre;overflow-x:auto;line-height:normal;font-family:Menlo,'DejaVu Sans Mono',consolas,'Courier New',monospace\"><span style=\"color: #008080; text-decoration-color: #008080; font-weight: bold\">110.0</span>\n",
              "</pre>\n"
            ]
          },
          "metadata": {}
        }
      ]
    },
    {
      "cell_type": "markdown",
      "source": [
        "Now let's say we want to print the payment total before and after the `addTaxToPayment` function executes. Here's how we would do it by changing the original code of the function:"
      ],
      "metadata": {
        "id": "5lb7BBfTPDrp"
      }
    },
    {
      "cell_type": "code",
      "source": [
        "def addTaxToPayment(payment):\n",
        "    \"\"\"Adds 1-% tax to the Payment\"\"\"\n",
        "    rprint (payment)\n",
        "    tax = 0.1 * payment\n",
        "    payment += tax\n",
        "    rprint (payment)\n",
        "    return payment"
      ],
      "metadata": {
        "id": "kXiP-viAPWRO"
      },
      "execution_count": 5,
      "outputs": []
    },
    {
      "cell_type": "code",
      "source": [
        "addTaxToPayment(100)"
      ],
      "metadata": {
        "colab": {
          "base_uri": "https://localhost:8080/",
          "height": 68
        },
        "id": "C60ltgfyPmJl",
        "outputId": "d9f2d425-4233-45a3-a311-80187767d124"
      },
      "execution_count": 6,
      "outputs": [
        {
          "output_type": "display_data",
          "data": {
            "text/plain": [
              "\u001b[1;36m100\u001b[0m\n"
            ],
            "text/html": [
              "<pre style=\"white-space:pre;overflow-x:auto;line-height:normal;font-family:Menlo,'DejaVu Sans Mono',consolas,'Courier New',monospace\"><span style=\"color: #008080; text-decoration-color: #008080; font-weight: bold\">100</span>\n",
              "</pre>\n"
            ]
          },
          "metadata": {}
        },
        {
          "output_type": "display_data",
          "data": {
            "text/plain": [
              "\u001b[1;36m110.0\u001b[0m\n"
            ],
            "text/html": [
              "<pre style=\"white-space:pre;overflow-x:auto;line-height:normal;font-family:Menlo,'DejaVu Sans Mono',consolas,'Courier New',monospace\"><span style=\"color: #008080; text-decoration-color: #008080; font-weight: bold\">110.0</span>\n",
              "</pre>\n"
            ]
          },
          "metadata": {}
        },
        {
          "output_type": "execute_result",
          "data": {
            "text/plain": [
              "110.0"
            ]
          },
          "metadata": {},
          "execution_count": 6
        }
      ]
    },
    {
      "cell_type": "markdown",
      "source": [
        "We were able to achieve what we want but we now increased the size of our `addTaxToPayment` function and if we want to do the same printing for any other function, we have to add the same code to all of those as well ... not very efficient. To solve this, let's create a decorator called `printValue` which prints the value of payment before and after the main function `addTaxToPayment` executes."
      ],
      "metadata": {
        "id": "0M0LvPfKRUGJ"
      }
    },
    {
      "cell_type": "markdown",
      "source": [
        "**Creating a Decorator function**\n",
        "\n",
        "The decorator function accepts a function `f` which is the function we wish to wrap around, in our case, it's `addTaxToPayment()`. The output of the decorator is its wrapper function which receives the arguments and keyword arguments passed to function `f`.\n",
        "\n",
        "Inside the wrapper function, we: \n",
        "1. extract the input parameters passed to function `f`. \n",
        "2. make any changes we want to the function inputs. \n",
        "3. execute function f \n",
        "4. make any changes to the function outputs \n",
        "5. wrapper function returns some value(s), which is what the decorator returns as well since it returns wrapper."
      ],
      "metadata": {
        "id": "0LuiIFciRwNm"
      }
    },
    {
      "cell_type": "code",
      "source": [
        "# Decorator\n",
        "def printValue(f):\n",
        "    def wrapper(*args, **kwargs):\n",
        "        \"\"\"Wrapper function for @addTaxToPayment.\"\"\"\n",
        "        payment = kwargs.get(\"payment\") # use .pop() if altering payment & add the argument back in function call arguments in line 7\n",
        "        rprint (f\"value before function call {payment}\") # executes before function f\n",
        "        payment = f(*args, **kwargs)\n",
        "        rprint (f\"value after function call {payment}\") # executes after function f\n",
        "        return payment\n",
        "    return wrapper"
      ],
      "metadata": {
        "id": "iQBWuPSARsZ1"
      },
      "execution_count": 7,
      "outputs": []
    },
    {
      "cell_type": "markdown",
      "source": [
        "We can use this decorator by simply adding it to the top of our main function preceded by the `@` symbol."
      ],
      "metadata": {
        "id": "GqdAs6TXS79i"
      }
    },
    {
      "cell_type": "code",
      "source": [
        "@printValue\n",
        "def addTaxToPayment(payment):\n",
        "    \"\"\"Adds 10% tax to the Payment\"\"\"\n",
        "    tax = 0.1 * payment\n",
        "    payment += tax\n",
        "    return payment"
      ],
      "metadata": {
        "id": "S2C9uyi4S-bO"
      },
      "execution_count": 8,
      "outputs": []
    },
    {
      "cell_type": "code",
      "source": [
        "addTaxToPayment(payment = 100)"
      ],
      "metadata": {
        "colab": {
          "base_uri": "https://localhost:8080/",
          "height": 68
        },
        "id": "YvAwfyesTF80",
        "outputId": "d9901e87-6e95-433b-e33c-1a798b99bca6"
      },
      "execution_count": 9,
      "outputs": [
        {
          "output_type": "display_data",
          "data": {
            "text/plain": [
              "value before function call \u001b[1;36m100\u001b[0m\n"
            ],
            "text/html": [
              "<pre style=\"white-space:pre;overflow-x:auto;line-height:normal;font-family:Menlo,'DejaVu Sans Mono',consolas,'Courier New',monospace\">value before function call <span style=\"color: #008080; text-decoration-color: #008080; font-weight: bold\">100</span>\n",
              "</pre>\n"
            ]
          },
          "metadata": {}
        },
        {
          "output_type": "display_data",
          "data": {
            "text/plain": [
              "value after function call \u001b[1;36m110.0\u001b[0m\n"
            ],
            "text/html": [
              "<pre style=\"white-space:pre;overflow-x:auto;line-height:normal;font-family:Menlo,'DejaVu Sans Mono',consolas,'Courier New',monospace\">value after function call <span style=\"color: #008080; text-decoration-color: #008080; font-weight: bold\">110.0</span>\n",
              "</pre>\n"
            ]
          },
          "metadata": {}
        },
        {
          "output_type": "execute_result",
          "data": {
            "text/plain": [
              "110.0"
            ]
          },
          "metadata": {},
          "execution_count": 9
        }
      ]
    },
    {
      "cell_type": "markdown",
      "source": [
        "Suppose we wanted to debug and see what function actually executed with `addTaxToPayment()`."
      ],
      "metadata": {
        "id": "c1TY5-WzXD-1"
      }
    },
    {
      "cell_type": "code",
      "source": [
        "addTaxToPayment.__name__, addTaxToPayment.__doc__"
      ],
      "metadata": {
        "colab": {
          "base_uri": "https://localhost:8080/"
        },
        "id": "yv000NY5XIi-",
        "outputId": "e2293908-ab51-4254-e8ed-2b7d638a3bde"
      },
      "execution_count": 10,
      "outputs": [
        {
          "output_type": "execute_result",
          "data": {
            "text/plain": [
              "('wrapper', 'Wrapper function for @addTaxToPayment.')"
            ]
          },
          "metadata": {},
          "execution_count": 10
        }
      ]
    },
    {
      "cell_type": "markdown",
      "source": [
        "The function name and docstring are not what we're looking for but it appears this way because the wrapper function is what was executed. In order to fix this, Python offers `functools.wraps` which carries the main function's metadata."
      ],
      "metadata": {
        "id": "5Yfk6s8DXMwu"
      }
    },
    {
      "cell_type": "code",
      "source": [
        "from functools import wraps\n",
        "\n",
        "# Decorator\n",
        "def printValue(f):\n",
        "    @wraps(f)\n",
        "    def wrap(*args, **kwargs):\n",
        "        \"\"\"Wrapper function for @addTaxToPayment.\"\"\"\n",
        "        payment = kwargs.get(\"payment\") # use .pop() if altering payment & add the argument back in function call arguments in line 7\n",
        "        rprint (f\"value before function call {payment}\") # executes before function f\n",
        "        payment = f(*args, **kwargs)\n",
        "        rprint (f\"value after function call {payment}\") # executes after function f\n",
        "        return payment\n",
        "    return wrap\n",
        "\n",
        "@printValue\n",
        "def addTaxToPayment(payment):\n",
        "    \"\"\"Adds 10% tax to the Payment\"\"\"\n",
        "    tax = 0.1 * payment\n",
        "    payment += tax\n",
        "    return payment\n",
        "\n",
        "addTaxToPayment.__name__, addTaxToPayment.__doc__"
      ],
      "metadata": {
        "colab": {
          "base_uri": "https://localhost:8080/"
        },
        "id": "ipH3t7_gXTSX",
        "outputId": "94073b4b-8064-4631-ae06-52a20d985514"
      },
      "execution_count": 11,
      "outputs": [
        {
          "output_type": "execute_result",
          "data": {
            "text/plain": [
              "('addTaxToPayment', 'Adds 10% tax to the Payment')"
            ]
          },
          "metadata": {},
          "execution_count": 11
        }
      ]
    },
    {
      "cell_type": "markdown",
      "source": [
        "Awesome! We were able to decorate our main function `addTaxToPayment()` to achieve the customization we wanted without actually altering the function. We can reuse our decorator for other functions that may need the same customization!\n",
        "\n",
        "This was a dummy example to show how decorators work. We can use decorators in MLOps: a simple scenario would be using decorators to create uniform JSON responses from each API endpoint without including the bulky code in each endpoint.\n",
        "\n"
      ],
      "metadata": {
        "id": "JJ_Qzd5jX0LJ"
      }
    },
    {
      "cell_type": "markdown",
      "source": [
        "## Callbacks\n",
        "\n",
        "Decorators allow for customized operations before and after the main function's execution but what about in between? Suppose we want to conditionally/situationally do some operations. Instead of writing a whole bunch of if-statements and make our functions bulky, we can use callbacks!\n",
        "\n",
        "**callbacks**: conditional/situational processing within the function.\n",
        "\n",
        "Here callbacks will be classes that have functions with key names that will execute at various periods during the main function's execution. The function names are up to us but we need to invoke the same callback functions within our main function."
      ],
      "metadata": {
        "id": "UbvedjXqZx_u"
      }
    },
    {
      "cell_type": "code",
      "source": [
        "# Callback\n",
        "class payment_tracker(object):\n",
        "    def __init__(self, payment):\n",
        "        self.history = []\n",
        "    def at_start(self, payment):\n",
        "        self.history.append(payment)\n",
        "    def at_end(self, payment):\n",
        "        self.history.append(payment)"
      ],
      "metadata": {
        "id": "PSR5yrs4b_NX"
      },
      "execution_count": 12,
      "outputs": []
    },
    {
      "cell_type": "markdown",
      "source": [
        "We can pass in as many callbacks as we want and because they have appropriately named functions they will be invoked at the appropriate times."
      ],
      "metadata": {
        "id": "ju759fgcbvP3"
      }
    },
    {
      "cell_type": "code",
      "source": [
        "def addTaxToPayment(payment, callbacks = []):\n",
        "    \"\"\"Adds 10% tax to the Payment\"\"\"\n",
        "    for callback in callbacks:\n",
        "        callback.at_start(payment)\n",
        "    tax = 0.1 * payment\n",
        "    payment += tax\n",
        "    for callback in callbacks:\n",
        "        callback.at_end(payment)\n",
        "    return payment"
      ],
      "metadata": {
        "id": "spoVs-eLcQ31"
      },
      "execution_count": 13,
      "outputs": []
    },
    {
      "cell_type": "code",
      "source": [
        "payment = 100\n",
        "tracker = payment_tracker(payment=payment)\n",
        "addTaxToPayment(payment=payment, callbacks=[tracker])\n",
        "rprint (tracker.history)"
      ],
      "metadata": {
        "colab": {
          "base_uri": "https://localhost:8080/",
          "height": 34
        },
        "id": "AKCSaCDIck90",
        "outputId": "777f0ca1-898f-4a78-e3f3-d549f1ef2c11"
      },
      "execution_count": 14,
      "outputs": [
        {
          "output_type": "display_data",
          "data": {
            "text/plain": [
              "\u001b[1m[\u001b[0m\u001b[1;36m100\u001b[0m, \u001b[1;36m110.0\u001b[0m\u001b[1m]\u001b[0m\n"
            ],
            "text/html": [
              "<pre style=\"white-space:pre;overflow-x:auto;line-height:normal;font-family:Menlo,'DejaVu Sans Mono',consolas,'Courier New',monospace\"><span style=\"font-weight: bold\">[</span><span style=\"color: #008080; text-decoration-color: #008080; font-weight: bold\">100</span>, <span style=\"color: #008080; text-decoration-color: #008080; font-weight: bold\">110.0</span><span style=\"font-weight: bold\">]</span>\n",
              "</pre>\n"
            ]
          },
          "metadata": {}
        }
      ]
    },
    {
      "cell_type": "markdown",
      "source": [
        "##  Difference compared to a decorator?\n",
        "\n",
        "With callbacks, it's easier to keep track of objects since it's all defined in a separate callback class. It's also now possible to interact with our function, not just before or after but throughout the entire process! Imagine a function with:\n",
        "\n",
        "- multiple processes where we want to execute operations in between them\n",
        "- execute operations repeatedly when loops are involved in functions"
      ],
      "metadata": {
        "id": "UUWTdcCXdRC8"
      }
    },
    {
      "cell_type": "markdown",
      "metadata": {
        "id": "lBLa1n54WEd2"
      },
      "source": [
        "## Classes\n",
        "\n",
        "Classes are object constructors and are a fundamental component of object oriented programming in Python. They are composed of a set of functions that define the class and it's operations."
      ]
    },
    {
      "cell_type": "markdown",
      "source": [
        "### Magic methods\n",
        "\n",
        "Classes can be customized with magic methods like __init__ and __str__, to enable powerful operations. These are also known as `dunder` methods (ex. dunder init), which stands for `d`ouble `under`scores due to the leading and trailing underscores."
      ],
      "metadata": {
        "id": "ZVqNtI5v9tnt"
      }
    },
    {
      "cell_type": "markdown",
      "metadata": {
        "id": "CypuBBQyRv8s"
      },
      "source": [
        "#### `__init__` function"
      ]
    },
    {
      "cell_type": "markdown",
      "metadata": {
        "id": "Hrx2bKTXR4E3"
      },
      "source": [
        "The `__init__` function is used when an instance of the class is initialized. "
      ]
    },
    {
      "cell_type": "code",
      "metadata": {
        "id": "DXmPwI1frAAd"
      },
      "source": [
        "# Creating the class\n",
        "class Payment(object):\n",
        "    \"\"\"Class object for a payment.\"\"\"\n",
        "    \n",
        "    def __init__(self, mode, name):\n",
        "        \"\"\"Initialize a payment.\"\"\"\n",
        "        self.mode = mode\n",
        "        self.name = name"
      ],
      "execution_count": 15,
      "outputs": []
    },
    {
      "cell_type": "code",
      "source": [
        "# Creating an instance of a class\n",
        "my_payment = Payment(mode=\"CreditCard\",\n",
        "             name=\"amazon_order\")\n",
        "rprint (my_payment)\n",
        "rprint (my_payment.name)\n"
      ],
      "metadata": {
        "colab": {
          "base_uri": "https://localhost:8080/",
          "height": 50
        },
        "id": "-Q9QtM4pA21r",
        "outputId": "71aa3a62-77b1-4566-eb9b-213266592b31"
      },
      "execution_count": 16,
      "outputs": [
        {
          "output_type": "display_data",
          "data": {
            "text/plain": [
              "\u001b[1m<\u001b[0m\u001b[1;95m__main__.Payment\u001b[0m\u001b[39m object at \u001b[0m\u001b[1;36m0x7f4049ccf710\u001b[0m\u001b[1m>\u001b[0m\n"
            ],
            "text/html": [
              "<pre style=\"white-space:pre;overflow-x:auto;line-height:normal;font-family:Menlo,'DejaVu Sans Mono',consolas,'Courier New',monospace\"><span style=\"font-weight: bold\">&lt;</span><span style=\"color: #ff00ff; text-decoration-color: #ff00ff; font-weight: bold\">__main__.Payment</span><span style=\"color: #000000; text-decoration-color: #000000\"> object at </span><span style=\"color: #008080; text-decoration-color: #008080; font-weight: bold\">0x7f4049ccf710</span><span style=\"font-weight: bold\">&gt;</span>\n",
              "</pre>\n"
            ]
          },
          "metadata": {}
        },
        {
          "output_type": "display_data",
          "data": {
            "text/plain": [
              "amazon_order\n"
            ],
            "text/html": [
              "<pre style=\"white-space:pre;overflow-x:auto;line-height:normal;font-family:Menlo,'DejaVu Sans Mono',consolas,'Courier New',monospace\">amazon_order\n",
              "</pre>\n"
            ]
          },
          "metadata": {}
        }
      ]
    },
    {
      "cell_type": "markdown",
      "source": [
        "#### `__str__` function"
      ],
      "metadata": {
        "id": "yf6Nf36ND4-m"
      }
    },
    {
      "cell_type": "markdown",
      "source": [
        "The `print (my_payment)` command printed something not so relevant to us. Let's fix that with the `__str__` function."
      ],
      "metadata": {
        "id": "lnR96KSVCZPf"
      }
    },
    {
      "cell_type": "code",
      "source": [
        "# Creating the class\n",
        "class Payment(object):\n",
        "    \"\"\"Class object for a payment.\"\"\"\n",
        "    \n",
        "    def __init__(self, mode, name):\n",
        "        \"\"\"Initialize a payment.\"\"\"\n",
        "        self.mode = mode\n",
        "        self.name = name\n",
        "    \n",
        "    def __str__(self):\n",
        "        \"\"\"Output this when print an instance of a Payment\"\"\"\n",
        "        return f\"payment mode for {self.name} is {self.mode}\""
      ],
      "metadata": {
        "id": "OXSaXn52BW2T"
      },
      "execution_count": 17,
      "outputs": []
    },
    {
      "cell_type": "markdown",
      "source": [
        "Let's try print the instance of `Payment` class again."
      ],
      "metadata": {
        "id": "9Kv-KaBuDWzI"
      }
    },
    {
      "cell_type": "code",
      "source": [
        "# Creating an instance of a class\n",
        "my_payment = Payment(mode=\"CreditCard\",\n",
        "             name=\"amazon_order\")\n",
        "rprint (my_payment)\n",
        "rprint (my_payment.name)\n"
      ],
      "metadata": {
        "colab": {
          "base_uri": "https://localhost:8080/",
          "height": 50
        },
        "id": "RGYjnchVCqpI",
        "outputId": "9c2afeb2-b01e-472b-ee19-f895613c207a"
      },
      "execution_count": 18,
      "outputs": [
        {
          "output_type": "display_data",
          "data": {
            "text/plain": [
              "payment mode for amazon_order is CreditCard\n"
            ],
            "text/html": [
              "<pre style=\"white-space:pre;overflow-x:auto;line-height:normal;font-family:Menlo,'DejaVu Sans Mono',consolas,'Courier New',monospace\">payment mode for amazon_order is CreditCard\n",
              "</pre>\n"
            ]
          },
          "metadata": {}
        },
        {
          "output_type": "display_data",
          "data": {
            "text/plain": [
              "amazon_order\n"
            ],
            "text/html": [
              "<pre style=\"white-space:pre;overflow-x:auto;line-height:normal;font-family:Menlo,'DejaVu Sans Mono',consolas,'Courier New',monospace\">amazon_order\n",
              "</pre>\n"
            ]
          },
          "metadata": {}
        }
      ]
    },
    {
      "cell_type": "markdown",
      "source": [
        "#### Few other magic/dunder methods\n",
        "\n",
        "- `__len__`\n",
        "- `__iter__`\n",
        "- `__getitem__`"
      ],
      "metadata": {
        "id": "A7zdsU6QDtf8"
      }
    },
    {
      "cell_type": "markdown",
      "source": [
        "### Object functions\n",
        "\n",
        "Besides these magic functions, classes can also have object functions."
      ],
      "metadata": {
        "id": "JzlAOq-4EYq-"
      }
    },
    {
      "cell_type": "code",
      "source": [
        "# Creating the class\n",
        "class Payment(object):\n",
        "    \"\"\"Class object for a payment.\"\"\"\n",
        "    \n",
        "    def __init__(self, mode, name):\n",
        "        \"\"\"Initialize a payment.\"\"\"\n",
        "        self.mode = mode\n",
        "        self.name = name\n",
        "    \n",
        "    def __str__(self):\n",
        "        \"\"\"Output this when print an instance of a Payment\"\"\"\n",
        "        return f\"payment mode for {self.name} is {self.mode}\"\n",
        "    \n",
        "    def changeName(self, new_name):\n",
        "        \"\"\"Change the name of your Payment\"\"\"\n",
        "        self.name = new_name"
      ],
      "metadata": {
        "id": "_ycBoPJfDmAA"
      },
      "execution_count": 19,
      "outputs": []
    },
    {
      "cell_type": "code",
      "source": [
        "# Creating an instance of a class\n",
        "my_payment = Payment(mode=\"CreditCard\",\n",
        "             name=\"amazon_order\")\n",
        "rprint (my_payment)\n",
        "rprint (my_payment.name)"
      ],
      "metadata": {
        "colab": {
          "base_uri": "https://localhost:8080/",
          "height": 50
        },
        "id": "UeQNevacE3vp",
        "outputId": "df63feb6-a4e2-448a-fcfa-4f1d6457cf85"
      },
      "execution_count": 20,
      "outputs": [
        {
          "output_type": "display_data",
          "data": {
            "text/plain": [
              "payment mode for amazon_order is CreditCard\n"
            ],
            "text/html": [
              "<pre style=\"white-space:pre;overflow-x:auto;line-height:normal;font-family:Menlo,'DejaVu Sans Mono',consolas,'Courier New',monospace\">payment mode for amazon_order is CreditCard\n",
              "</pre>\n"
            ]
          },
          "metadata": {}
        },
        {
          "output_type": "display_data",
          "data": {
            "text/plain": [
              "amazon_order\n"
            ],
            "text/html": [
              "<pre style=\"white-space:pre;overflow-x:auto;line-height:normal;font-family:Menlo,'DejaVu Sans Mono',consolas,'Courier New',monospace\">amazon_order\n",
              "</pre>\n"
            ]
          },
          "metadata": {}
        }
      ]
    },
    {
      "cell_type": "code",
      "source": [
        "# Using a class's object function\n",
        "my_payment.changeName(new_name=\"uber_order\")\n",
        "rprint (my_payment)\n",
        "rprint (my_payment.name)"
      ],
      "metadata": {
        "colab": {
          "base_uri": "https://localhost:8080/",
          "height": 50
        },
        "id": "tJRRQputE7sr",
        "outputId": "e8e90366-ef8d-4a39-91c3-cf9e7bd3d293"
      },
      "execution_count": 21,
      "outputs": [
        {
          "output_type": "display_data",
          "data": {
            "text/plain": [
              "payment mode for uber_order is CreditCard\n"
            ],
            "text/html": [
              "<pre style=\"white-space:pre;overflow-x:auto;line-height:normal;font-family:Menlo,'DejaVu Sans Mono',consolas,'Courier New',monospace\">payment mode for uber_order is CreditCard\n",
              "</pre>\n"
            ]
          },
          "metadata": {}
        },
        {
          "output_type": "display_data",
          "data": {
            "text/plain": [
              "uber_order\n"
            ],
            "text/html": [
              "<pre style=\"white-space:pre;overflow-x:auto;line-height:normal;font-family:Menlo,'DejaVu Sans Mono',consolas,'Courier New',monospace\">uber_order\n",
              "</pre>\n"
            ]
          },
          "metadata": {}
        }
      ]
    },
    {
      "cell_type": "markdown",
      "source": [
        "### Inheritance\n",
        "\n",
        "We can also build classes on top of one another using inheritance, which allows us to inherit all the properties and methods from another class (the parent)."
      ],
      "metadata": {
        "id": "wQ9SpFREFdpd"
      }
    },
    {
      "cell_type": "code",
      "source": [
        "class CreditCardPayment(Payment):\n",
        "    def __init__(self, name, status):\n",
        "        super().__init__(mode=\"CreditCard\", name=name)\n",
        "        self.status = status\n",
        "\n",
        "    def __str__(self):\n",
        "        return f\"{self.name} is {self.status}\""
      ],
      "metadata": {
        "id": "Taj2vTwaFTom"
      },
      "execution_count": 22,
      "outputs": []
    },
    {
      "cell_type": "code",
      "source": [
        "orderPayment = CreditCardPayment(status=\"under_process\", name=\"amazon_order\")\n",
        "rprint (orderPayment)"
      ],
      "metadata": {
        "colab": {
          "base_uri": "https://localhost:8080/",
          "height": 34
        },
        "id": "aieuq0lPGfyq",
        "outputId": "e1a8be7f-9c3a-4cc5-edf0-2c7a9d3d04d0"
      },
      "execution_count": 23,
      "outputs": [
        {
          "output_type": "display_data",
          "data": {
            "text/plain": [
              "amazon_order is under_process\n"
            ],
            "text/html": [
              "<pre style=\"white-space:pre;overflow-x:auto;line-height:normal;font-family:Menlo,'DejaVu Sans Mono',consolas,'Courier New',monospace\">amazon_order is under_process\n",
              "</pre>\n"
            ]
          },
          "metadata": {}
        }
      ]
    },
    {
      "cell_type": "code",
      "source": [
        "orderPayment.changeName(\"amazon_order_1\")\n",
        "rprint (orderPayment)"
      ],
      "metadata": {
        "colab": {
          "base_uri": "https://localhost:8080/",
          "height": 34
        },
        "id": "CwclrlxKG2As",
        "outputId": "7d07f322-b11a-446f-a4ec-578994d12d5d"
      },
      "execution_count": 24,
      "outputs": [
        {
          "output_type": "display_data",
          "data": {
            "text/plain": [
              "amazon_order_1 is under_process\n"
            ],
            "text/html": [
              "<pre style=\"white-space:pre;overflow-x:auto;line-height:normal;font-family:Menlo,'DejaVu Sans Mono',consolas,'Courier New',monospace\">amazon_order_1 is under_process\n",
              "</pre>\n"
            ]
          },
          "metadata": {}
        }
      ]
    },
    {
      "cell_type": "markdown",
      "source": [
        "- Notice how we inherited the initialized variables from the parent `Payment` class like `payment_mode` and `name`. We also inherited functions such as `changeName()`.\n",
        "- As you can see, both our parent class (`Payment`) and the child class (`CreditCardPayment`) have different `__str__` functions defined but share the same function name. The child class inherits everything from the parent classes but when there is conflict between function names, the child class' functions take precedence and overwrite the parent class' functions."
      ],
      "metadata": {
        "id": "AZ3kYYgFIfbR"
      }
    },
    {
      "cell_type": "markdown",
      "source": [
        "### Decorator Methods\n",
        "\n",
        "There are two important decorator methods to know about when it comes to classes: `@classmethod` and `@staticmethod`"
      ],
      "metadata": {
        "id": "_RIEROKAJPud"
      }
    },
    {
      "cell_type": "code",
      "source": [
        "# Creating the class\n",
        "class Payment(object):\n",
        "    \"\"\"Class object for a payment.\"\"\"\n",
        "    \n",
        "    def __init__(self, mode, name):\n",
        "        \"\"\"Initialize a payment.\"\"\"\n",
        "        self.mode = mode\n",
        "        self.name = name\n",
        "    \n",
        "    def __str__(self):\n",
        "        \"\"\"Output this when print an instance of a Payment\"\"\"\n",
        "        return f\"payment mode for {self.name} is {self.mode}\"\n",
        "    \n",
        "    @classmethod\n",
        "    def from_dict(cls, d):\n",
        "        return cls(name=d[\"name\"], mode=d[\"mode\"])\n",
        "    \n",
        "    @staticmethod\n",
        "    def is_cashOnDelivery(mode):\n",
        "        return mode == \"COD\""
      ],
      "metadata": {
        "id": "3WPdD5SGIYnD"
      },
      "execution_count": 25,
      "outputs": []
    },
    {
      "cell_type": "markdown",
      "source": [
        "A `@classmethod` allows us to create class instances by passing in the uninstantiated class itself (`cls`). This is a great way to create (or load) classes from objects (ie. dictionaries)."
      ],
      "metadata": {
        "id": "FAYIWG2UKtDk"
      }
    },
    {
      "cell_type": "code",
      "source": [
        "# create instance\n",
        "d = { \"name\" : \"amazon_oder\",\n",
        "      \"mode\" : \"CreditCard\"}\n",
        "orderPayment = Payment.from_dict(d)\n",
        "rprint (orderPayment) "
      ],
      "metadata": {
        "colab": {
          "base_uri": "https://localhost:8080/",
          "height": 34
        },
        "id": "q4T64GLkKkkj",
        "outputId": "014cc167-3432-425d-b013-1297cc2734c2"
      },
      "execution_count": 26,
      "outputs": [
        {
          "output_type": "display_data",
          "data": {
            "text/plain": [
              "payment mode for amazon_oder is CreditCard\n"
            ],
            "text/html": [
              "<pre style=\"white-space:pre;overflow-x:auto;line-height:normal;font-family:Menlo,'DejaVu Sans Mono',consolas,'Courier New',monospace\">payment mode for amazon_oder is CreditCard\n",
              "</pre>\n"
            ]
          },
          "metadata": {}
        }
      ]
    },
    {
      "cell_type": "markdown",
      "source": [
        "A `@staticmethod` can be called from an uninstantiated class object so we can do things like this:"
      ],
      "metadata": {
        "id": "FYo82VxILvoP"
      }
    },
    {
      "cell_type": "code",
      "source": [
        "rprint (Payment.is_cashOnDelivery(mode = \"COD\"))\n",
        "rprint (Payment.is_cashOnDelivery(mode = \"CreditCard\"))"
      ],
      "metadata": {
        "colab": {
          "base_uri": "https://localhost:8080/",
          "height": 50
        },
        "id": "Dxcc1cICLhQc",
        "outputId": "6b16fd6c-894a-4a71-fac3-adc2c247a01a"
      },
      "execution_count": 27,
      "outputs": [
        {
          "output_type": "display_data",
          "data": {
            "text/plain": [
              "\u001b[3;92mTrue\u001b[0m\n"
            ],
            "text/html": [
              "<pre style=\"white-space:pre;overflow-x:auto;line-height:normal;font-family:Menlo,'DejaVu Sans Mono',consolas,'Courier New',monospace\"><span style=\"color: #00ff00; text-decoration-color: #00ff00; font-style: italic\">True</span>\n",
              "</pre>\n"
            ]
          },
          "metadata": {}
        },
        {
          "output_type": "display_data",
          "data": {
            "text/plain": [
              "\u001b[3;91mFalse\u001b[0m\n"
            ],
            "text/html": [
              "<pre style=\"white-space:pre;overflow-x:auto;line-height:normal;font-family:Menlo,'DejaVu Sans Mono',consolas,'Courier New',monospace\"><span style=\"color: #ff0000; text-decoration-color: #ff0000; font-style: italic\">False</span>\n",
              "</pre>\n"
            ]
          },
          "metadata": {}
        }
      ]
    },
    {
      "cell_type": "code",
      "source": [
        ""
      ],
      "metadata": {
        "id": "eWipY7LwL9Py"
      },
      "execution_count": 27,
      "outputs": []
    }
  ]
}